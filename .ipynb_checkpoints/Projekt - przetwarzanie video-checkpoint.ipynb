{
 "cells": [
  {
   "cell_type": "markdown",
   "id": "9f502476-3bd9-407d-832d-539861e28429",
   "metadata": {},
   "source": [
    "<h1>Import bibliotek</h1>"
   ]
  },
  {
   "cell_type": "code",
   "execution_count": 1,
   "id": "c86dad54-005d-4089-b121-4e13ef75528c",
   "metadata": {},
   "outputs": [],
   "source": [
    "from moviepy.editor import VideoFileClip, clips_array, vfx\n",
    "from moviepy.config import IMAGEMAGICK_BINARY\n",
    "from PIL import Image\n",
    "from pathlib import Path\n",
    "from moviepy.config import change_settings\n",
    "from moviepy.video.VideoClip import TextClip\n",
    "from moviepy.video.compositing.CompositeVideoClip import CompositeVideoClip\n",
    "import subprocess\n",
    "import shutil"
   ]
  },
  {
   "cell_type": "markdown",
   "id": "2378da54-72cb-4563-a426-3602f36daecb",
   "metadata": {},
   "source": [
    "<h1>Wskazanie ścieżki do pliku binarnego magick</h1>"
   ]
  },
  {
   "cell_type": "code",
   "execution_count": 2,
   "id": "4f10acc5-5049-4ad7-a736-59645c0e9bf3",
   "metadata": {},
   "outputs": [],
   "source": [
    "magick_path = shutil.which(\"magick\")\n",
    "change_settings({\"IMAGEMAGICK_BINARY\": magick_path})"
   ]
  },
  {
   "cell_type": "markdown",
   "id": "4d8b2cfd-0c67-4316-bf55-ef4bac46847c",
   "metadata": {},
   "source": [
    "<h1>Stworzenie pliku video składającego się z czterech filmów. Dodanie efektu czarno-białego oraz obrócenie</h1>"
   ]
  },
  {
   "cell_type": "code",
   "execution_count": 3,
   "id": "5c6a96fd-ac44-47ac-96ad-e88f195d395d",
   "metadata": {},
   "outputs": [
    {
     "name": "stdout",
     "output_type": "stream",
     "text": [
      "Moviepy - Building video C:\\Users\\gipso\\OneDrive\\Pulpit\\Projekt-wizualizacja-moviepy\\video1_preview.mp4.\n",
      "MoviePy - Writing audio in video1_previewTEMP_MPY_wvf_snd.mp3\n"
     ]
    },
    {
     "name": "stderr",
     "output_type": "stream",
     "text": [
      "                                                                                                                       \r"
     ]
    },
    {
     "name": "stdout",
     "output_type": "stream",
     "text": [
      "MoviePy - Done.\n",
      "Moviepy - Writing video C:\\Users\\gipso\\OneDrive\\Pulpit\\Projekt-wizualizacja-moviepy\\video1_preview.mp4\n",
      "\n"
     ]
    },
    {
     "name": "stderr",
     "output_type": "stream",
     "text": [
      "                                                                                                                       \r"
     ]
    },
    {
     "name": "stdout",
     "output_type": "stream",
     "text": [
      "Moviepy - Done !\n",
      "Moviepy - video ready C:\\Users\\gipso\\OneDrive\\Pulpit\\Projekt-wizualizacja-moviepy\\video1_preview.mp4\n"
     ]
    },
    {
     "data": {
      "text/plain": [
       "CompletedProcess(args='start /MAX \"\" \"C:\\\\Users\\\\gipso\\\\OneDrive\\\\Pulpit\\\\Projekt-wizualizacja-moviepy\\\\video1_preview.mp4\"', returncode=0)"
      ]
     },
     "execution_count": 3,
     "metadata": {},
     "output_type": "execute_result"
    }
   ],
   "source": [
    "base_path = Path.cwd()\n",
    "input_video = base_path / \"video1.mp4\"\n",
    "output_video = base_path / \"video1_preview.mp4\"\n",
    "\n",
    "clip1 = VideoFileClip(str(input_video)).margin(10)\n",
    "shorter_duration = clip1.duration / 3\n",
    "clip1 = clip1.subclip(0, shorter_duration)\n",
    "clip2 = clip1.fx(vfx.mirror_x)\n",
    "clip3 = clip1.fx(vfx.mirror_y).fx(vfx.blackwhite)\n",
    "clip4 = clip3.fx(vfx.mirror_x).fx(vfx.blackwhite)\n",
    "final_clip = clips_array([[clip1, clip2], [clip3, clip4]])\n",
    "\n",
    "final_clip.write_videofile(str(output_video))\n",
    "\n",
    "subprocess.run(f'start /MAX \"\" \"{output_video}\"', shell=True)"
   ]
  },
  {
   "cell_type": "markdown",
   "id": "83e65824-8bac-4131-b606-70b9a259317c",
   "metadata": {},
   "source": [
    "<h1>Stworzenie video wraz z napisem oraz przycięcie filmu</h1>"
   ]
  },
  {
   "cell_type": "code",
   "execution_count": 4,
   "id": "21aea3e1-bbd6-473c-ba32-c3c802720d51",
   "metadata": {},
   "outputs": [
    {
     "name": "stdout",
     "output_type": "stream",
     "text": [
      "Moviepy - Building video C:\\Users\\gipso\\OneDrive\\Pulpit\\Projekt-wizualizacja-moviepy\\video2_with_text.mp4.\n",
      "Moviepy - Writing video C:\\Users\\gipso\\OneDrive\\Pulpit\\Projekt-wizualizacja-moviepy\\video2_with_text.mp4\n",
      "\n"
     ]
    },
    {
     "name": "stderr",
     "output_type": "stream",
     "text": [
      "                                                                                                                       \r"
     ]
    },
    {
     "name": "stdout",
     "output_type": "stream",
     "text": [
      "Moviepy - Done !\n",
      "Moviepy - video ready C:\\Users\\gipso\\OneDrive\\Pulpit\\Projekt-wizualizacja-moviepy\\video2_with_text.mp4\n"
     ]
    },
    {
     "data": {
      "text/plain": [
       "CompletedProcess(args='start /MAX \"\" \"C:\\\\Users\\\\gipso\\\\OneDrive\\\\Pulpit\\\\Projekt-wizualizacja-moviepy\\\\video2_with_text.mp4\"', returncode=0)"
      ]
     },
     "execution_count": 4,
     "metadata": {},
     "output_type": "execute_result"
    }
   ],
   "source": [
    "base_path = Path.cwd()\n",
    "input_video = base_path / \"video2.mp4\"\n",
    "output_video = base_path / \"video2_with_text.mp4\"\n",
    "\n",
    "video = VideoFileClip(str(input_video))\n",
    "shorter_duration = video.duration / 2\n",
    "video = video.subclip(0, shorter_duration)\n",
    "text = (\n",
    "    TextClip(\"Kiedy usłyszałeś, że Drwal wraca do Maka!\", fontsize=120, color='white')\n",
    "    .set_position('center')\n",
    "    .set_duration(3)\n",
    "    .set_start(2)\n",
    ")\n",
    "\n",
    "video_with_text = CompositeVideoClip([video, text])\n",
    "video_with_text.write_videofile(str(output_video))\n",
    "\n",
    "subprocess.run(f'start /MAX \"\" \"{output_video}\"', shell=True)"
   ]
  },
  {
   "cell_type": "markdown",
   "id": "af25abdf-90d3-4d80-89ca-1ad533b77034",
   "metadata": {},
   "source": [
    "<h1>Stworzenie wideo wraz z przyśpieszeniem 4x</h1>"
   ]
  },
  {
   "cell_type": "code",
   "execution_count": 5,
   "id": "8b621869-2c23-4115-9453-c0d13c4d4599",
   "metadata": {},
   "outputs": [
    {
     "name": "stdout",
     "output_type": "stream",
     "text": [
      "Moviepy - Building video C:\\Users\\gipso\\OneDrive\\Pulpit\\Projekt-wizualizacja-moviepy\\video4_combined.mp4.\n",
      "Moviepy - Writing video C:\\Users\\gipso\\OneDrive\\Pulpit\\Projekt-wizualizacja-moviepy\\video4_combined.mp4\n",
      "\n"
     ]
    },
    {
     "name": "stderr",
     "output_type": "stream",
     "text": [
      "                                                                                                                       \r"
     ]
    },
    {
     "name": "stdout",
     "output_type": "stream",
     "text": [
      "Moviepy - Done !\n",
      "Moviepy - video ready C:\\Users\\gipso\\OneDrive\\Pulpit\\Projekt-wizualizacja-moviepy\\video4_combined.mp4\n"
     ]
    },
    {
     "data": {
      "text/plain": [
       "CompletedProcess(args='start /MAX \"\" \"C:\\\\Users\\\\gipso\\\\OneDrive\\\\Pulpit\\\\Projekt-wizualizacja-moviepy\\\\video4_combined.mp4\"', returncode=0)"
      ]
     },
     "execution_count": 5,
     "metadata": {},
     "output_type": "execute_result"
    }
   ],
   "source": [
    "base_path = Path.cwd()\n",
    "input_video = base_path / \"video4.mp4\"\n",
    "output_video = base_path / \"video4_combined.mp4\"\n",
    "\n",
    "clip = VideoFileClip(str(input_video))\n",
    "faster_clip = clip.fx(vfx.speedx, 4)\n",
    "faster_clip = faster_clip.loop(duration=clip.duration)\n",
    "\n",
    "final_clip = clips_array([[clip, faster_clip]])\n",
    "\n",
    "final_clip.write_videofile(str(output_video))\n",
    "\n",
    "\n",
    "subprocess.run(f'start /MAX \"\" \"{output_video}\"', shell=True)"
   ]
  },
  {
   "cell_type": "code",
   "execution_count": null,
   "id": "86db8409-c512-4452-a4b5-00ca60327583",
   "metadata": {},
   "outputs": [],
   "source": []
  }
 ],
 "metadata": {
  "kernelspec": {
   "display_name": "Python 3 (ipykernel)",
   "language": "python",
   "name": "python3"
  },
  "language_info": {
   "codemirror_mode": {
    "name": "ipython",
    "version": 3
   },
   "file_extension": ".py",
   "mimetype": "text/x-python",
   "name": "python",
   "nbconvert_exporter": "python",
   "pygments_lexer": "ipython3",
   "version": "3.12.2"
  }
 },
 "nbformat": 4,
 "nbformat_minor": 5
}

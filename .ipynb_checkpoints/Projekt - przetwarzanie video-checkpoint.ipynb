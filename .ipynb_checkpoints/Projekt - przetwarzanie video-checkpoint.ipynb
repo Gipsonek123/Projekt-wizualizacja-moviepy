{
 "cells": [
  {
   "cell_type": "markdown",
   "id": "ce53c6d0-6713-4624-8f4f-d8aac5cdce73",
   "metadata": {},
   "source": [
    "# MoviePy- przetwarzanie wideo\n",
    "## Adam Kaszubowski, Kamil Jędrzkiewicz, Radosław Szwed"
   ]
  },
  {
   "cell_type": "code",
   "execution_count": 4,
   "id": "48c10053-2ace-4521-a154-ba2d9439a187",
   "metadata": {},
   "outputs": [],
   "source": [
    "from IPython.display import Video\n",
    "from moviepy.editor import VideoFileClip, clips_array, vfx, AudioFileClip, concatenate_videoclips\n",
    "from moviepy.video.VideoClip import TextClip\n",
    "from moviepy.video.compositing.CompositeVideoClip import CompositeVideoClip\n",
    "import shutil\n",
    "from moviepy.config import change_settings"
   ]
  },
  {
   "cell_type": "markdown",
   "id": "c8ddd8d4-5e1d-4d82-b749-036d3754e5c7",
   "metadata": {},
   "source": [
    "# MoviePy\n",
    "\n",
    "### Jak zainstalować?\n",
    "#### !pip install moviepy==1.0.3\n",
    "\n",
    "### MoviePy wymaga również biblioteki <b> ffmpeg </b> do działania\n",
    "#### https://ffmpeg.org/download.html\n",
    "\n",
    "### MoviePy wykorzystuje również ImageMagick\n",
    "#### https://imagemagick.org/script/download.php\n",
    "##### -----------------------------------------------------------------------------------------------------"
   ]
  },
  {
   "cell_type": "markdown",
   "id": "810da934-31af-447c-88b6-4dfcc3765de9",
   "metadata": {},
   "source": [
    "<h1>Wskazanie ścieżki do pliku binarnego magick</h1>"
   ]
  },
  {
   "cell_type": "code",
   "execution_count": 5,
   "id": "e868afcc-2ea4-4475-b642-8a07dff37aa6",
   "metadata": {},
   "outputs": [],
   "source": [
    "magick_path = shutil.which(\"magick\")\n",
    "change_settings({\"IMAGEMAGICK_BINARY\": magick_path})"
   ]
  },
  {
   "cell_type": "markdown",
   "id": "c39cdd06-04ab-4f8a-8d34-b88bcd38bb49",
   "metadata": {},
   "source": [
    "## Stworzenie pliku video składającego się z czterech filmów. Dodanie efektu czarno-białego oraz obrócenie"
   ]
  },
  {
   "cell_type": "code",
   "execution_count": 2,
   "id": "c946dc3e-582c-4699-ad9e-00b578fbbc81",
   "metadata": {},
   "outputs": [
    {
     "data": {
      "text/html": [
       "<video src=\"video1.mp4\" controls  width=\"600\"  height=\"400\">\n",
       "      Your browser does not support the <code>video</code> element.\n",
       "    </video>"
      ],
      "text/plain": [
       "<IPython.core.display.Video object>"
      ]
     },
     "execution_count": 2,
     "metadata": {},
     "output_type": "execute_result"
    }
   ],
   "source": [
    "video1_input = \"video1.mp4\" \n",
    "video1_output = \"video1_output.mp4\"\n",
    "\n",
    "Video(video1_input, width=600, height=400)"
   ]
  },
  {
   "cell_type": "code",
   "execution_count": 3,
   "id": "d4d38b4f-172d-4cb6-8114-ce7b3830d540",
   "metadata": {},
   "outputs": [
    {
     "data": {
      "text/html": [
       "<video src=\"video1_output.mp4\" controls  width=\"600\"  height=\"400\">\n",
       "      Your browser does not support the <code>video</code> element.\n",
       "    </video>"
      ],
      "text/plain": [
       "<IPython.core.display.Video object>"
      ]
     },
     "execution_count": 3,
     "metadata": {},
     "output_type": "execute_result"
    }
   ],
   "source": [
    "clip1 = VideoFileClip(str(video1_input)).margin(10)\n",
    "shorter_duration = clip1.duration / 3\n",
    "clip1 = clip1.subclip(0, shorter_duration)\n",
    "clip2 = clip1.fx(vfx.mirror_x)\n",
    "clip3 = clip1.fx(vfx.mirror_y).fx(vfx.blackwhite)\n",
    "clip4 = clip3.fx(vfx.mirror_x).fx(vfx.blackwhite)\n",
    "final_clip = clips_array([[clip1, clip2], [clip3, clip4]])\n",
    "final_clip.write_videofile(video1_output, verbose=False, logger=None)\n",
    "Video(video1_output, width=600, height=400)"
   ]
  },
  {
   "cell_type": "markdown",
   "id": "818397f3-0b9e-43e2-8940-836974b92ab7",
   "metadata": {},
   "source": [
    "### Stworzenie video wraz z napisem oraz przycięcie filmu"
   ]
  },
  {
   "cell_type": "code",
   "execution_count": 6,
   "id": "b16a6dcf-8835-4ffd-8c58-ec51b8f71658",
   "metadata": {},
   "outputs": [
    {
     "data": {
      "text/html": [
       "<video src=\"video2.mp4\" controls  width=\"600\"  height=\"400\">\n",
       "      Your browser does not support the <code>video</code> element.\n",
       "    </video>"
      ],
      "text/plain": [
       "<IPython.core.display.Video object>"
      ]
     },
     "execution_count": 6,
     "metadata": {},
     "output_type": "execute_result"
    }
   ],
   "source": [
    "video2_input = \"video2.mp4\" \n",
    "video2_output = \"video2_output.mp4\"\n",
    "\n",
    "Video(video2_input, width=600, height=400)"
   ]
  },
  {
   "cell_type": "code",
   "execution_count": 7,
   "id": "9a0619de-82f0-424d-94c5-a88a43ae369e",
   "metadata": {},
   "outputs": [
    {
     "data": {
      "text/html": [
       "<video src=\"video2_output.mp4\" controls  width=\"600\"  height=\"400\">\n",
       "      Your browser does not support the <code>video</code> element.\n",
       "    </video>"
      ],
      "text/plain": [
       "<IPython.core.display.Video object>"
      ]
     },
     "execution_count": 7,
     "metadata": {},
     "output_type": "execute_result"
    }
   ],
   "source": [
    "video = VideoFileClip(video2_input)\n",
    "shorter_duration = video.duration / 2\n",
    "video = video.subclip(0, shorter_duration)\n",
    "text = (\n",
    "    TextClip(\"Gdy usłyszałeś, że zdałeś egzamin!\", fontsize=120, color='white')\n",
    "    .set_position('center')\n",
    "    .set_duration(3)\n",
    "    .set_start(2)\n",
    ")\n",
    "\n",
    "video_with_text = CompositeVideoClip([video, text])\n",
    "video_with_text.write_videofile(video2_output, verbose=False, logger=None)\n",
    "Video(video2_output, width=600, height=400)"
   ]
  },
  {
   "cell_type": "code",
   "execution_count": null,
   "id": "655608dd-6e54-4521-bbe0-279296d2e78b",
   "metadata": {},
   "outputs": [],
   "source": []
  },
  {
   "cell_type": "markdown",
   "id": "e9fd7395-1a1d-4083-a093-524980398642",
   "metadata": {},
   "source": [
    "### Stworzenie wideo wraz z przyśpieszeniem x4"
   ]
  },
  {
   "cell_type": "code",
   "execution_count": 6,
   "id": "12999e7d-ecdf-4411-9681-d782eb81cfc0",
   "metadata": {},
   "outputs": [
    {
     "data": {
      "text/html": [
       "<video src=\"video3.mp4\" controls  width=\"600\"  height=\"400\">\n",
       "      Your browser does not support the <code>video</code> element.\n",
       "    </video>"
      ],
      "text/plain": [
       "<IPython.core.display.Video object>"
      ]
     },
     "execution_count": 6,
     "metadata": {},
     "output_type": "execute_result"
    }
   ],
   "source": [
    "video3_input = \"video3.mp4\" \n",
    "video3_output = \"video3_output.mp4\"\n",
    "\n",
    "Video(video3_input, width=600, height=400)"
   ]
  },
  {
   "cell_type": "code",
   "execution_count": 7,
   "id": "3aace25d-0996-4991-a262-70f049878bbd",
   "metadata": {},
   "outputs": [
    {
     "data": {
      "text/html": [
       "<video src=\"video3_output.mp4\" controls  width=\"600\"  height=\"400\">\n",
       "      Your browser does not support the <code>video</code> element.\n",
       "    </video>"
      ],
      "text/plain": [
       "<IPython.core.display.Video object>"
      ]
     },
     "execution_count": 7,
     "metadata": {},
     "output_type": "execute_result"
    }
   ],
   "source": [
    "clip = VideoFileClip(video3_input)\n",
    "faster_clip = clip.fx(vfx.speedx, 4)\n",
    "faster_clip = faster_clip.loop(duration=clip.duration)\n",
    "\n",
    "final_clip = clips_array([[clip, faster_clip]])\n",
    "\n",
    "final_clip.write_videofile(video3_output, verbose=False, logger=None)\n",
    "Video(video3_output, width=600, height=400)"
   ]
  },
  {
   "cell_type": "markdown",
   "id": "5bd020e2-7098-4c00-8c60-a035b0275931",
   "metadata": {},
   "source": [
    "### Dodawanie muzyki do filmu"
   ]
  },
  {
   "cell_type": "code",
   "execution_count": 8,
   "id": "7b72ffca-7836-4d6a-a6e8-de7afee7be95",
   "metadata": {},
   "outputs": [
    {
     "data": {
      "text/html": [
       "<video src=\"video4.mp4\" controls  width=\"600\"  height=\"400\">\n",
       "      Your browser does not support the <code>video</code> element.\n",
       "    </video>"
      ],
      "text/plain": [
       "<IPython.core.display.Video object>"
      ]
     },
     "execution_count": 8,
     "metadata": {},
     "output_type": "execute_result"
    }
   ],
   "source": [
    "video4_input = \"video4.mp4\" \n",
    "video4_output = \"video4_output.mp4\"\n",
    "\n",
    "Video(video4_input, width=600, height=400)"
   ]
  },
  {
   "cell_type": "code",
   "execution_count": 9,
   "id": "ba04ebd5-da38-4f24-83b7-56f73e00dd96",
   "metadata": {},
   "outputs": [
    {
     "data": {
      "text/html": [
       "<video src=\"video4_output.mp4\" controls  width=\"600\"  height=\"400\">\n",
       "      Your browser does not support the <code>video</code> element.\n",
       "    </video>"
      ],
      "text/plain": [
       "<IPython.core.display.Video object>"
      ]
     },
     "execution_count": 9,
     "metadata": {},
     "output_type": "execute_result"
    }
   ],
   "source": [
    "clip = VideoFileClip(video4_input)\n",
    "audio = AudioFileClip(\"audio4.mp3\")\n",
    "\n",
    "# Dopasowanie długości audio do wideo (opcjonalnie)\n",
    "audio = audio.subclip(0, clip.duration)\n",
    "clip = clip.set_audio(audio)\n",
    "clip.write_videofile(\n",
    "    video4_output,\n",
    "    audio_codec='aac', # bez tego nie zadziała w przypadku audio mp4\n",
    "    audio=True,\n",
    "    verbose=False, \n",
    "    logger=None\n",
    ")\n",
    "\n",
    "Video(video4_output, width=600, height=400)"
   ]
  },
  {
   "cell_type": "markdown",
   "id": "30b41571-a475-4ca3-acbf-e012f4e6ef7a",
   "metadata": {},
   "source": [
    "### Zwiększenie, przyśpieszenie oraz zmiana tonu dźwięku w filmie"
   ]
  },
  {
   "cell_type": "code",
   "execution_count": 10,
   "id": "26815e2f-0901-4881-b403-a8dc6af3b061",
   "metadata": {},
   "outputs": [
    {
     "data": {
      "text/html": [
       "<video src=\"video4_modified.mp4\" controls  width=\"600\"  height=\"400\">\n",
       "      Your browser does not support the <code>video</code> element.\n",
       "    </video>"
      ],
      "text/plain": [
       "<IPython.core.display.Video object>"
      ]
     },
     "execution_count": 10,
     "metadata": {},
     "output_type": "execute_result"
    }
   ],
   "source": [
    "video4_modified = \"video4_modified.mp4\"\n",
    "\n",
    "clip = VideoFileClip(video4_output) \n",
    "\n",
    "audio = clip.audio\n",
    "\n",
    "audio = audio.volumex(1.5)\n",
    "\n",
    "audio = audio.fx(vfx.speedx, 1.5)\n",
    "\n",
    "audio = audio.set_fps(audio.fps * 1.5)\n",
    "\n",
    "audio_duration = audio.duration\n",
    "\n",
    "clip = clip.subclip(0, audio_duration)\n",
    "\n",
    "final_clip = clip.set_audio(audio)\n",
    "\n",
    "\n",
    "final_clip.write_videofile(\n",
    "    video4_modified,\n",
    "    audio_codec='aac', \n",
    "    audio=True, \n",
    "    verbose=False, \n",
    "    logger=None\n",
    ")\n",
    "\n",
    "Video(video4_modified, width=600, height=400)\n"
   ]
  },
  {
   "cell_type": "markdown",
   "id": "1768ed40-b79d-4f7c-9f62-d666b54c43c0",
   "metadata": {},
   "source": [
    "### Maskowanie"
   ]
  },
  {
   "cell_type": "code",
   "execution_count": 11,
   "id": "b8e720c6-f9f0-462a-b956-59263305333e",
   "metadata": {},
   "outputs": [
    {
     "data": {
      "text/html": [
       "<video src=\"video5.mp4\" controls  width=\"600\"  height=\"400\">\n",
       "      Your browser does not support the <code>video</code> element.\n",
       "    </video>"
      ],
      "text/plain": [
       "<IPython.core.display.Video object>"
      ]
     },
     "execution_count": 11,
     "metadata": {},
     "output_type": "execute_result"
    }
   ],
   "source": [
    "video5_input = \"video5.mp4\" \n",
    "video5_output = \"video5_output.mp4\"\n",
    "\n",
    "Video(video5_input, width=600, height=400)"
   ]
  },
  {
   "cell_type": "code",
   "execution_count": 12,
   "id": "8f82da34-73eb-4d32-8998-85d19c679d8e",
   "metadata": {},
   "outputs": [
    {
     "data": {
      "text/html": [
       "<video src=\"video5_output.mp4\" controls  width=\"600\"  height=\"400\">\n",
       "      Your browser does not support the <code>video</code> element.\n",
       "    </video>"
      ],
      "text/plain": [
       "<IPython.core.display.Video object>"
      ]
     },
     "execution_count": 12,
     "metadata": {},
     "output_type": "execute_result"
    }
   ],
   "source": [
    "from moviepy.editor import VideoFileClip, ImageClip, CompositeVideoClip\n",
    "from IPython.display import Video\n",
    "\n",
    "clip = VideoFileClip(video5_input)\n",
    "\n",
    "background = VideoFileClip(\"background_video5.mp4\") \n",
    "background = background.fx(vfx.loop, n=3)   # background video trwa krócej niż film- więc zapętlam go 3 razy\n",
    "background = background.set_duration(clip.duration) # i ustawiam na długość trwania filmu\n",
    "\n",
    "mask = clip.to_mask() \n",
    "clip_with_mask = clip.set_mask(mask)\n",
    "\n",
    "final_clip = CompositeVideoClip([background, clip_with_mask])\n",
    "\n",
    "final_clip.write_videofile(video5_output, codec=\"libx264\", audio_codec=\"aac\", verbose=False, logger=None)\n",
    "\n",
    "Video(video5_output, width=600, height=400)\n",
    "\n"
   ]
  },
  {
   "cell_type": "code",
   "execution_count": 13,
   "id": "6bddf228-4ded-4c23-8110-031885a83320",
   "metadata": {},
   "outputs": [],
   "source": [
    "video6_1_input = \"video6_1.mp4\" \n",
    "video6_2_input = \"video6_2.mp4\"\n",
    "video6_output = \"video6_output.mp4\""
   ]
  },
  {
   "cell_type": "code",
   "execution_count": 17,
   "id": "9e042fbe-b56c-4de8-9c85-f743cc3c3d95",
   "metadata": {},
   "outputs": [
    {
     "data": {
      "text/html": [
       "<video src=\"video6_output.mp4\" controls  width=\"600\"  height=\"400\">\n",
       "      Your browser does not support the <code>video</code> element.\n",
       "    </video>"
      ],
      "text/plain": [
       "<IPython.core.display.Video object>"
      ]
     },
     "execution_count": 17,
     "metadata": {},
     "output_type": "execute_result"
    }
   ],
   "source": [
    "clip1 = VideoFileClip(video6_1_input).subclip(0, 10)  \n",
    "clip2 = VideoFileClip(video6_2_input).subclip(0, 10)  \n",
    "\n",
    "\n",
    "clip1 = clip1.fadein(2).fadeout(2) \n",
    "clip2 = clip2.fadein(2).fadeout(2)\n",
    "\n",
    "final_clip = concatenate_videoclips([clip1, clip2], method=\"compose\", padding=-1)  \n",
    "\n",
    "final_clip.write_videofile(video6_output, codec=\"libx264\", audio_codec=\"aac\", fps=24, verbose=False, logger=None)\n",
    "\n",
    "Video(video6_output, width=600, height=400)\n"
   ]
  },
  {
   "cell_type": "code",
   "execution_count": null,
   "id": "8d10ce23-236a-4460-a936-100875bd7210",
   "metadata": {},
   "outputs": [],
   "source": []
  }
 ],
 "metadata": {
  "kernelspec": {
   "display_name": "Python 3 (ipykernel)",
   "language": "python",
   "name": "python3"
  },
  "language_info": {
   "codemirror_mode": {
    "name": "ipython",
    "version": 3
   },
   "file_extension": ".py",
   "mimetype": "text/x-python",
   "name": "python",
   "nbconvert_exporter": "python",
   "pygments_lexer": "ipython3",
   "version": "3.12.2"
  }
 },
 "nbformat": 4,
 "nbformat_minor": 5
}

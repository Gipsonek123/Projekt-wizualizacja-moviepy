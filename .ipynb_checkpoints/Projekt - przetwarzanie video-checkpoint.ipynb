{
 "cells": [
  {
   "cell_type": "markdown",
   "id": "ce53c6d0-6713-4624-8f4f-d8aac5cdce73",
   "metadata": {},
   "source": [
    "# MoviePy- przetwarzanie wideo\n",
    "## Adam Kaszubowski, Kamil Jędrzkiewicz, Radosław Szwed"
   ]
  },
  {
   "cell_type": "code",
   "execution_count": 1,
   "id": "48c10053-2ace-4521-a154-ba2d9439a187",
   "metadata": {},
   "outputs": [],
   "source": [
    "from IPython.display import Video\n",
    "from moviepy.editor import VideoFileClip, clips_array, vfx, AudioFileClip, concatenate_videoclips, ImageClip\n",
    "from moviepy.video.VideoClip import TextClip\n",
    "from moviepy.video.compositing.CompositeVideoClip import CompositeVideoClip\n",
    "import shutil\n",
    "from moviepy.config import change_settings\n",
    "import numpy as np\n",
    "import random"
   ]
  },
  {
   "cell_type": "markdown",
   "id": "c8ddd8d4-5e1d-4d82-b749-036d3754e5c7",
   "metadata": {},
   "source": [
    "# MoviePy\n",
    "\n",
    "### Jak zainstalować?\n",
    "#### !pip install moviepy==1.0.3\n",
    "\n",
    "### MoviePy wymaga również biblioteki <b> ffmpeg </b> do działania\n",
    "#### https://ffmpeg.org/download.html\n",
    "\n",
    "### MoviePy wykorzystuje również ImageMagick\n",
    "#### https://imagemagick.org/script/download.php\n",
    "##### -----------------------------------------------------------------------------------------------------"
   ]
  },
  {
   "cell_type": "markdown",
   "id": "810da934-31af-447c-88b6-4dfcc3765de9",
   "metadata": {},
   "source": [
    "<h1>Wskazanie ścieżki do pliku binarnego magick</h1>"
   ]
  },
  {
   "cell_type": "code",
   "execution_count": 2,
   "id": "e868afcc-2ea4-4475-b642-8a07dff37aa6",
   "metadata": {},
   "outputs": [],
   "source": [
    "magick_path = shutil.which(\"magick\")\n",
    "change_settings({\"IMAGEMAGICK_BINARY\": magick_path})"
   ]
  },
  {
   "cell_type": "markdown",
   "id": "c39cdd06-04ab-4f8a-8d34-b88bcd38bb49",
   "metadata": {},
   "source": [
    "### Stworzenie pliku video składającego się z czterech filmów. Dodanie efektu czarno-białego oraz obrócenie"
   ]
  },
  {
   "cell_type": "code",
   "execution_count": 3,
   "id": "c946dc3e-582c-4699-ad9e-00b578fbbc81",
   "metadata": {},
   "outputs": [
    {
     "data": {
      "text/html": [
       "<video src=\"video1.mp4\" controls  width=\"600\"  height=\"400\">\n",
       "      Your browser does not support the <code>video</code> element.\n",
       "    </video>"
      ],
      "text/plain": [
       "<IPython.core.display.Video object>"
      ]
     },
     "execution_count": 3,
     "metadata": {},
     "output_type": "execute_result"
    }
   ],
   "source": [
    "video1_input = \"video1.mp4\" \n",
    "video1_output = \"video1_output.mp4\"\n",
    "\n",
    "Video(video1_input, width=600, height=400)"
   ]
  },
  {
   "cell_type": "code",
   "execution_count": 4,
   "id": "d4d38b4f-172d-4cb6-8114-ce7b3830d540",
   "metadata": {},
   "outputs": [
    {
     "data": {
      "text/html": [
       "<video src=\"video1_output.mp4\" controls  width=\"600\"  height=\"400\">\n",
       "      Your browser does not support the <code>video</code> element.\n",
       "    </video>"
      ],
      "text/plain": [
       "<IPython.core.display.Video object>"
      ]
     },
     "execution_count": 4,
     "metadata": {},
     "output_type": "execute_result"
    }
   ],
   "source": [
    "clip1 = VideoFileClip(video1_input).margin(10) # Tworzymy obiekt video oraz dodajemy obramowanie wokół o grubości 10 pikseli\n",
    "shorter_duration = clip1.duration / 3 # Dzielimy długość filmu przez 3 \n",
    "clip1 = clip1.subclip(0, shorter_duration) # Wycinamy fragment video od początku do 1/3 filmu\n",
    "clip2 = clip1.fx(vfx.mirror_x) # Odbicie lustrzane w poziomie\n",
    "clip3 = clip1.fx(vfx.mirror_y).fx(vfx.blackwhite) # Odbicie lustrzane w pione i kolory biało-czarne\n",
    "clip4 = clip3.fx(vfx.mirror_x).fx(vfx.blackwhite) # Odbicie lustrzane w poziomie i kolory biało-czarne\n",
    "final_clip = clips_array([[clip1, clip2], [clip3, clip4]]) # Tworzymy film łącząc wszystkie 4 klipy\n",
    "final_clip.write_videofile(video1_output, verbose=False, logger=None) # Zapisujemy plik \n",
    "Video(video1_output, width=600, height=400) # Wyświetlenie video"
   ]
  },
  {
   "cell_type": "markdown",
   "id": "818397f3-0b9e-43e2-8940-836974b92ab7",
   "metadata": {},
   "source": [
    "### Stworzenie video wraz z napisem oraz przycięcie filmu"
   ]
  },
  {
   "cell_type": "code",
   "execution_count": 5,
   "id": "b16a6dcf-8835-4ffd-8c58-ec51b8f71658",
   "metadata": {},
   "outputs": [
    {
     "data": {
      "text/html": [
       "<video src=\"video2.mp4\" controls  width=\"600\"  height=\"400\">\n",
       "      Your browser does not support the <code>video</code> element.\n",
       "    </video>"
      ],
      "text/plain": [
       "<IPython.core.display.Video object>"
      ]
     },
     "execution_count": 5,
     "metadata": {},
     "output_type": "execute_result"
    }
   ],
   "source": [
    "video2_input = \"video2.mp4\" \n",
    "video2_output = \"video2_output.mp4\"\n",
    "\n",
    "Video(video2_input, width=600, height=400)"
   ]
  },
  {
   "cell_type": "code",
   "execution_count": 6,
   "id": "9a0619de-82f0-424d-94c5-a88a43ae369e",
   "metadata": {},
   "outputs": [
    {
     "ename": "TypeError",
     "evalue": "expected str, bytes or os.PathLike object, not NoneType",
     "output_type": "error",
     "traceback": [
      "\u001b[1;31m---------------------------------------------------------------------------\u001b[0m",
      "\u001b[1;31mTypeError\u001b[0m                                 Traceback (most recent call last)",
      "Cell \u001b[1;32mIn[6], line 5\u001b[0m\n\u001b[0;32m      2\u001b[0m shorter_duration \u001b[38;5;241m=\u001b[39m video\u001b[38;5;241m.\u001b[39mduration \u001b[38;5;241m/\u001b[39m \u001b[38;5;241m2\u001b[39m \u001b[38;5;66;03m# Dzielimy dłgość filmu na pół\u001b[39;00m\n\u001b[0;32m      3\u001b[0m video \u001b[38;5;241m=\u001b[39m video\u001b[38;5;241m.\u001b[39msubclip(\u001b[38;5;241m0\u001b[39m, shorter_duration) \u001b[38;5;66;03m# Wycinamy fragment od początku do połowy\u001b[39;00m\n\u001b[0;32m      4\u001b[0m text \u001b[38;5;241m=\u001b[39m (\n\u001b[1;32m----> 5\u001b[0m     \u001b[43mTextClip\u001b[49m\u001b[43m(\u001b[49m\u001b[38;5;124;43m\"\u001b[39;49m\u001b[38;5;124;43mGdy usłyszałeś, że zdałeś egzamin!\u001b[39;49m\u001b[38;5;124;43m\"\u001b[39;49m\u001b[43m,\u001b[49m\u001b[43m \u001b[49m\u001b[43mfontsize\u001b[49m\u001b[38;5;241;43m=\u001b[39;49m\u001b[38;5;241;43m120\u001b[39;49m\u001b[43m,\u001b[49m\u001b[43m \u001b[49m\u001b[43mcolor\u001b[49m\u001b[38;5;241;43m=\u001b[39;49m\u001b[38;5;124;43m'\u001b[39;49m\u001b[38;5;124;43mwhite\u001b[39;49m\u001b[38;5;124;43m'\u001b[39;49m\u001b[43m)\u001b[49m \u001b[38;5;66;03m# Dodajemy biały tekst o rozmiarze czcionki 120\u001b[39;00m\n\u001b[0;32m      6\u001b[0m     \u001b[38;5;241m.\u001b[39mset_position(\u001b[38;5;124m'\u001b[39m\u001b[38;5;124mcenter\u001b[39m\u001b[38;5;124m'\u001b[39m) \u001b[38;5;66;03m# Dodajemy napis na śrdoku\u001b[39;00m\n\u001b[0;32m      7\u001b[0m     \u001b[38;5;241m.\u001b[39mset_duration(\u001b[38;5;241m3\u001b[39m) \u001b[38;5;66;03m# Ustawiamy czas widoczności napisu na 3 sekundy\u001b[39;00m\n\u001b[0;32m      8\u001b[0m     \u001b[38;5;241m.\u001b[39mset_start(\u001b[38;5;241m2\u001b[39m) \u001b[38;5;66;03m# Ustawiamy początek wyświetlenia napisu na 2 sekunde video\u001b[39;00m\n\u001b[0;32m      9\u001b[0m )\n\u001b[0;32m     11\u001b[0m video_with_text \u001b[38;5;241m=\u001b[39m CompositeVideoClip([video, text]) \u001b[38;5;66;03m# Łączymy video z tekstem\u001b[39;00m\n\u001b[0;32m     12\u001b[0m video_with_text\u001b[38;5;241m.\u001b[39mwrite_videofile(video2_output, verbose\u001b[38;5;241m=\u001b[39m\u001b[38;5;28;01mFalse\u001b[39;00m, logger\u001b[38;5;241m=\u001b[39m\u001b[38;5;28;01mNone\u001b[39;00m) \u001b[38;5;66;03m# Zapis video\u001b[39;00m\n",
      "File \u001b[1;32m~\\miniconda3\\Lib\\site-packages\\moviepy\\video\\VideoClip.py:1137\u001b[0m, in \u001b[0;36mTextClip.__init__\u001b[1;34m(self, txt, filename, size, color, bg_color, fontsize, font, stroke_color, stroke_width, method, kerning, align, interline, tempfilename, temptxt, transparent, remove_temp, print_cmd)\u001b[0m\n\u001b[0;32m   1134\u001b[0m     \u001b[38;5;28mprint\u001b[39m(\u001b[38;5;124m\"\u001b[39m\u001b[38;5;124m \u001b[39m\u001b[38;5;124m\"\u001b[39m\u001b[38;5;241m.\u001b[39mjoin(cmd))\n\u001b[0;32m   1136\u001b[0m \u001b[38;5;28;01mtry\u001b[39;00m:\n\u001b[1;32m-> 1137\u001b[0m     \u001b[43msubprocess_call\u001b[49m\u001b[43m(\u001b[49m\u001b[43mcmd\u001b[49m\u001b[43m,\u001b[49m\u001b[43m \u001b[49m\u001b[43mlogger\u001b[49m\u001b[38;5;241;43m=\u001b[39;49m\u001b[38;5;28;43;01mNone\u001b[39;49;00m\u001b[43m)\u001b[49m\n\u001b[0;32m   1138\u001b[0m \u001b[38;5;28;01mexcept\u001b[39;00m (\u001b[38;5;167;01mIOError\u001b[39;00m, \u001b[38;5;167;01mOSError\u001b[39;00m) \u001b[38;5;28;01mas\u001b[39;00m err:\n\u001b[0;32m   1139\u001b[0m     error \u001b[38;5;241m=\u001b[39m (\u001b[38;5;124m\"\u001b[39m\u001b[38;5;124mMoviePy Error: creation of \u001b[39m\u001b[38;5;132;01m%s\u001b[39;00m\u001b[38;5;124m failed because of the \u001b[39m\u001b[38;5;124m\"\u001b[39m\n\u001b[0;32m   1140\u001b[0m              \u001b[38;5;124m\"\u001b[39m\u001b[38;5;124mfollowing error:\u001b[39m\u001b[38;5;130;01m\\n\u001b[39;00m\u001b[38;5;130;01m\\n\u001b[39;00m\u001b[38;5;132;01m%s\u001b[39;00m\u001b[38;5;124m.\u001b[39m\u001b[38;5;130;01m\\n\u001b[39;00m\u001b[38;5;130;01m\\n\u001b[39;00m\u001b[38;5;124m.\u001b[39m\u001b[38;5;124m\"\u001b[39m \u001b[38;5;241m%\u001b[39m (filename, \u001b[38;5;28mstr\u001b[39m(err))\n\u001b[0;32m   1141\u001b[0m              \u001b[38;5;241m+\u001b[39m (\u001b[38;5;124m\"\u001b[39m\u001b[38;5;124mThis error can be due to the fact that ImageMagick \u001b[39m\u001b[38;5;124m\"\u001b[39m\n\u001b[1;32m   (...)\u001b[0m\n\u001b[0;32m   1144\u001b[0m                 \u001b[38;5;124m\"\u001b[39m\u001b[38;5;124mImageMagick binary in file conf.py, or that the path \u001b[39m\u001b[38;5;124m\"\u001b[39m\n\u001b[0;32m   1145\u001b[0m                 \u001b[38;5;124m\"\u001b[39m\u001b[38;5;124myou specified is incorrect\u001b[39m\u001b[38;5;124m\"\u001b[39m))\n",
      "File \u001b[1;32m~\\miniconda3\\Lib\\site-packages\\moviepy\\tools.py:46\u001b[0m, in \u001b[0;36msubprocess_call\u001b[1;34m(cmd, logger, errorprint)\u001b[0m\n\u001b[0;32m     43\u001b[0m \u001b[38;5;28;01mif\u001b[39;00m os\u001b[38;5;241m.\u001b[39mname \u001b[38;5;241m==\u001b[39m \u001b[38;5;124m\"\u001b[39m\u001b[38;5;124mnt\u001b[39m\u001b[38;5;124m\"\u001b[39m:\n\u001b[0;32m     44\u001b[0m     popen_params[\u001b[38;5;124m\"\u001b[39m\u001b[38;5;124mcreationflags\u001b[39m\u001b[38;5;124m\"\u001b[39m] \u001b[38;5;241m=\u001b[39m \u001b[38;5;241m0x08000000\u001b[39m\n\u001b[1;32m---> 46\u001b[0m proc \u001b[38;5;241m=\u001b[39m \u001b[43msp\u001b[49m\u001b[38;5;241;43m.\u001b[39;49m\u001b[43mPopen\u001b[49m\u001b[43m(\u001b[49m\u001b[43mcmd\u001b[49m\u001b[43m,\u001b[49m\u001b[43m \u001b[49m\u001b[38;5;241;43m*\u001b[39;49m\u001b[38;5;241;43m*\u001b[39;49m\u001b[43mpopen_params\u001b[49m\u001b[43m)\u001b[49m\n\u001b[0;32m     48\u001b[0m out, err \u001b[38;5;241m=\u001b[39m proc\u001b[38;5;241m.\u001b[39mcommunicate() \u001b[38;5;66;03m# proc.wait()\u001b[39;00m\n\u001b[0;32m     49\u001b[0m proc\u001b[38;5;241m.\u001b[39mstderr\u001b[38;5;241m.\u001b[39mclose()\n",
      "File \u001b[1;32m~\\miniconda3\\Lib\\subprocess.py:1026\u001b[0m, in \u001b[0;36mPopen.__init__\u001b[1;34m(self, args, bufsize, executable, stdin, stdout, stderr, preexec_fn, close_fds, shell, cwd, env, universal_newlines, startupinfo, creationflags, restore_signals, start_new_session, pass_fds, user, group, extra_groups, encoding, errors, text, umask, pipesize, process_group)\u001b[0m\n\u001b[0;32m   1022\u001b[0m         \u001b[38;5;28;01mif\u001b[39;00m \u001b[38;5;28mself\u001b[39m\u001b[38;5;241m.\u001b[39mtext_mode:\n\u001b[0;32m   1023\u001b[0m             \u001b[38;5;28mself\u001b[39m\u001b[38;5;241m.\u001b[39mstderr \u001b[38;5;241m=\u001b[39m io\u001b[38;5;241m.\u001b[39mTextIOWrapper(\u001b[38;5;28mself\u001b[39m\u001b[38;5;241m.\u001b[39mstderr,\n\u001b[0;32m   1024\u001b[0m                     encoding\u001b[38;5;241m=\u001b[39mencoding, errors\u001b[38;5;241m=\u001b[39merrors)\n\u001b[1;32m-> 1026\u001b[0m     \u001b[38;5;28;43mself\u001b[39;49m\u001b[38;5;241;43m.\u001b[39;49m\u001b[43m_execute_child\u001b[49m\u001b[43m(\u001b[49m\u001b[43margs\u001b[49m\u001b[43m,\u001b[49m\u001b[43m \u001b[49m\u001b[43mexecutable\u001b[49m\u001b[43m,\u001b[49m\u001b[43m \u001b[49m\u001b[43mpreexec_fn\u001b[49m\u001b[43m,\u001b[49m\u001b[43m \u001b[49m\u001b[43mclose_fds\u001b[49m\u001b[43m,\u001b[49m\n\u001b[0;32m   1027\u001b[0m \u001b[43m                        \u001b[49m\u001b[43mpass_fds\u001b[49m\u001b[43m,\u001b[49m\u001b[43m \u001b[49m\u001b[43mcwd\u001b[49m\u001b[43m,\u001b[49m\u001b[43m \u001b[49m\u001b[43menv\u001b[49m\u001b[43m,\u001b[49m\n\u001b[0;32m   1028\u001b[0m \u001b[43m                        \u001b[49m\u001b[43mstartupinfo\u001b[49m\u001b[43m,\u001b[49m\u001b[43m \u001b[49m\u001b[43mcreationflags\u001b[49m\u001b[43m,\u001b[49m\u001b[43m \u001b[49m\u001b[43mshell\u001b[49m\u001b[43m,\u001b[49m\n\u001b[0;32m   1029\u001b[0m \u001b[43m                        \u001b[49m\u001b[43mp2cread\u001b[49m\u001b[43m,\u001b[49m\u001b[43m \u001b[49m\u001b[43mp2cwrite\u001b[49m\u001b[43m,\u001b[49m\n\u001b[0;32m   1030\u001b[0m \u001b[43m                        \u001b[49m\u001b[43mc2pread\u001b[49m\u001b[43m,\u001b[49m\u001b[43m \u001b[49m\u001b[43mc2pwrite\u001b[49m\u001b[43m,\u001b[49m\n\u001b[0;32m   1031\u001b[0m \u001b[43m                        \u001b[49m\u001b[43merrread\u001b[49m\u001b[43m,\u001b[49m\u001b[43m \u001b[49m\u001b[43merrwrite\u001b[49m\u001b[43m,\u001b[49m\n\u001b[0;32m   1032\u001b[0m \u001b[43m                        \u001b[49m\u001b[43mrestore_signals\u001b[49m\u001b[43m,\u001b[49m\n\u001b[0;32m   1033\u001b[0m \u001b[43m                        \u001b[49m\u001b[43mgid\u001b[49m\u001b[43m,\u001b[49m\u001b[43m \u001b[49m\u001b[43mgids\u001b[49m\u001b[43m,\u001b[49m\u001b[43m \u001b[49m\u001b[43muid\u001b[49m\u001b[43m,\u001b[49m\u001b[43m \u001b[49m\u001b[43mumask\u001b[49m\u001b[43m,\u001b[49m\n\u001b[0;32m   1034\u001b[0m \u001b[43m                        \u001b[49m\u001b[43mstart_new_session\u001b[49m\u001b[43m,\u001b[49m\u001b[43m \u001b[49m\u001b[43mprocess_group\u001b[49m\u001b[43m)\u001b[49m\n\u001b[0;32m   1035\u001b[0m \u001b[38;5;28;01mexcept\u001b[39;00m:\n\u001b[0;32m   1036\u001b[0m     \u001b[38;5;66;03m# Cleanup if the child failed starting.\u001b[39;00m\n\u001b[0;32m   1037\u001b[0m     \u001b[38;5;28;01mfor\u001b[39;00m f \u001b[38;5;129;01min\u001b[39;00m \u001b[38;5;28mfilter\u001b[39m(\u001b[38;5;28;01mNone\u001b[39;00m, (\u001b[38;5;28mself\u001b[39m\u001b[38;5;241m.\u001b[39mstdin, \u001b[38;5;28mself\u001b[39m\u001b[38;5;241m.\u001b[39mstdout, \u001b[38;5;28mself\u001b[39m\u001b[38;5;241m.\u001b[39mstderr)):\n",
      "File \u001b[1;32m~\\miniconda3\\Lib\\subprocess.py:1462\u001b[0m, in \u001b[0;36mPopen._execute_child\u001b[1;34m(self, args, executable, preexec_fn, close_fds, pass_fds, cwd, env, startupinfo, creationflags, shell, p2cread, p2cwrite, c2pread, c2pwrite, errread, errwrite, unused_restore_signals, unused_gid, unused_gids, unused_uid, unused_umask, unused_start_new_session, unused_process_group)\u001b[0m\n\u001b[0;32m   1460\u001b[0m     args \u001b[38;5;241m=\u001b[39m list2cmdline([args])\n\u001b[0;32m   1461\u001b[0m \u001b[38;5;28;01melse\u001b[39;00m:\n\u001b[1;32m-> 1462\u001b[0m     args \u001b[38;5;241m=\u001b[39m \u001b[43mlist2cmdline\u001b[49m\u001b[43m(\u001b[49m\u001b[43margs\u001b[49m\u001b[43m)\u001b[49m\n\u001b[0;32m   1464\u001b[0m \u001b[38;5;28;01mif\u001b[39;00m executable \u001b[38;5;129;01mis\u001b[39;00m \u001b[38;5;129;01mnot\u001b[39;00m \u001b[38;5;28;01mNone\u001b[39;00m:\n\u001b[0;32m   1465\u001b[0m     executable \u001b[38;5;241m=\u001b[39m os\u001b[38;5;241m.\u001b[39mfsdecode(executable)\n",
      "File \u001b[1;32m~\\miniconda3\\Lib\\subprocess.py:608\u001b[0m, in \u001b[0;36mlist2cmdline\u001b[1;34m(seq)\u001b[0m\n\u001b[0;32m    606\u001b[0m result \u001b[38;5;241m=\u001b[39m []\n\u001b[0;32m    607\u001b[0m needquote \u001b[38;5;241m=\u001b[39m \u001b[38;5;28;01mFalse\u001b[39;00m\n\u001b[1;32m--> 608\u001b[0m \u001b[43m\u001b[49m\u001b[38;5;28;43;01mfor\u001b[39;49;00m\u001b[43m \u001b[49m\u001b[43marg\u001b[49m\u001b[43m \u001b[49m\u001b[38;5;129;43;01min\u001b[39;49;00m\u001b[43m \u001b[49m\u001b[38;5;28;43mmap\u001b[39;49m\u001b[43m(\u001b[49m\u001b[43mos\u001b[49m\u001b[38;5;241;43m.\u001b[39;49m\u001b[43mfsdecode\u001b[49m\u001b[43m,\u001b[49m\u001b[43m \u001b[49m\u001b[43mseq\u001b[49m\u001b[43m)\u001b[49m\u001b[43m:\u001b[49m\n\u001b[0;32m    609\u001b[0m \u001b[43m    \u001b[49m\u001b[43mbs_buf\u001b[49m\u001b[43m \u001b[49m\u001b[38;5;241;43m=\u001b[39;49m\u001b[43m \u001b[49m\u001b[43m[\u001b[49m\u001b[43m]\u001b[49m\n\u001b[0;32m    611\u001b[0m \u001b[43m    \u001b[49m\u001b[38;5;66;43;03m# Add a space to separate this argument from the others\u001b[39;49;00m\n",
      "File \u001b[1;32m<frozen os>:830\u001b[0m, in \u001b[0;36mfsdecode\u001b[1;34m(filename)\u001b[0m\n",
      "\u001b[1;31mTypeError\u001b[0m: expected str, bytes or os.PathLike object, not NoneType"
     ]
    }
   ],
   "source": [
    "video = VideoFileClip(video2_input) # Tworzymy obiekt video\n",
    "shorter_duration = video.duration / 2 # Dzielimy dłgość filmu na pół\n",
    "video = video.subclip(0, shorter_duration) # Wycinamy fragment od początku do połowy\n",
    "text = (\n",
    "    TextClip(\"Gdy usłyszałeś, że zdałeś egzamin!\", fontsize=120, color='white') # Dodajemy biały tekst o rozmiarze czcionki 120\n",
    "    .set_position('center') # Dodajemy napis na śrdoku\n",
    "    .set_duration(3) # Ustawiamy czas widoczności napisu na 3 sekundy\n",
    "    .set_start(2) # Ustawiamy początek wyświetlenia napisu na 2 sekunde video\n",
    ")\n",
    "\n",
    "video_with_text = CompositeVideoClip([video, text]) # Łączymy video z tekstem\n",
    "video_with_text.write_videofile(video2_output, verbose=False, logger=None) # Zapis video\n",
    "Video(video2_output, width=600, height=400) # Wyświetlenie video"
   ]
  },
  {
   "cell_type": "markdown",
   "id": "e9fd7395-1a1d-4083-a093-524980398642",
   "metadata": {},
   "source": [
    "### Stworzenie wideo wraz z przyśpieszeniem x4"
   ]
  },
  {
   "cell_type": "code",
   "execution_count": 7,
   "id": "12999e7d-ecdf-4411-9681-d782eb81cfc0",
   "metadata": {},
   "outputs": [
    {
     "data": {
      "text/html": [
       "<video src=\"video3.mp4\" controls  width=\"600\"  height=\"400\">\n",
       "      Your browser does not support the <code>video</code> element.\n",
       "    </video>"
      ],
      "text/plain": [
       "<IPython.core.display.Video object>"
      ]
     },
     "execution_count": 7,
     "metadata": {},
     "output_type": "execute_result"
    }
   ],
   "source": [
    "video3_input = \"video3.mp4\" \n",
    "video3_output = \"video3_output.mp4\"\n",
    "\n",
    "Video(video3_input, width=600, height=400)"
   ]
  },
  {
   "cell_type": "code",
   "execution_count": 8,
   "id": "3aace25d-0996-4991-a262-70f049878bbd",
   "metadata": {},
   "outputs": [
    {
     "data": {
      "text/html": [
       "<video src=\"video3_output.mp4\" controls  width=\"600\"  height=\"400\">\n",
       "      Your browser does not support the <code>video</code> element.\n",
       "    </video>"
      ],
      "text/plain": [
       "<IPython.core.display.Video object>"
      ]
     },
     "execution_count": 8,
     "metadata": {},
     "output_type": "execute_result"
    }
   ],
   "source": [
    "clip = VideoFileClip(video3_input) # Tworzymy obiekt video\n",
    "faster_clip = clip.fx(vfx.speedx, 4) # Tworzymy nowy klip z szybkością 4x\n",
    "faster_clip = faster_clip.loop(duration=clip.duration) # Zapętlamy szybsze video, żeby trwało tyle samo co domyślny film\n",
    "\n",
    "final_clip = clips_array([[clip, faster_clip]]) # Łączymy oba video\n",
    "\n",
    "final_clip.write_videofile(video3_output, verbose=False, logger=None) # Zapis video\n",
    "Video(video3_output, width=600, height=400) # Wyświetlenie video"
   ]
  },
  {
   "cell_type": "markdown",
   "id": "03fe7be4-5d75-4102-b92b-1f9b5e00c5c4",
   "metadata": {},
   "source": [
    "### Zamiana barw zielonych z niebieskimi"
   ]
  },
  {
   "cell_type": "code",
   "execution_count": 9,
   "id": "a2ee1c26-df0a-466d-a399-d5dcb792c601",
   "metadata": {},
   "outputs": [
    {
     "data": {
      "text/html": [
       "<video src=\"video4.mp4\" controls  width=\"600\"  height=\"400\">\n",
       "      Your browser does not support the <code>video</code> element.\n",
       "    </video>"
      ],
      "text/plain": [
       "<IPython.core.display.Video object>"
      ]
     },
     "execution_count": 9,
     "metadata": {},
     "output_type": "execute_result"
    }
   ],
   "source": [
    "video4_input = \"video4.mp4\" \n",
    "video4_output = \"video4_output.mp4\"\n",
    "\n",
    "Video(video4_input, width=600, height=400)"
   ]
  },
  {
   "cell_type": "code",
   "execution_count": 10,
   "id": "5f996f73-515c-4d79-94b7-5e2c3ddecebc",
   "metadata": {},
   "outputs": [
    {
     "data": {
      "text/html": [
       "<video src=\"video4_output.mp4\" controls  width=\"600\"  height=\"400\">\n",
       "      Your browser does not support the <code>video</code> element.\n",
       "    </video>"
      ],
      "text/plain": [
       "<IPython.core.display.Video object>"
      ]
     },
     "execution_count": 10,
     "metadata": {},
     "output_type": "execute_result"
    }
   ],
   "source": [
    "def invert_green_blue(image: np.ndarray) -> np.ndarray: # Funkcja, która przyjmuje tablice trójwymiarową numpy i zamienia ze sobą kanały kolorów zielonych i niebieskich\n",
    "    return image[:, :, [0, 2, 1]]\n",
    "\n",
    "clip = VideoFileClip(video4_input) # Tworzymy obiekt video\n",
    "final_clip = clip.fl_image(invert_green_blue) # Zamieniamy kolor niebieski z zielonym wykorzystując funkcję\n",
    "final_clip.write_videofile(video4_output, verbose=False, logger=None) # Zapis video\n",
    "\n",
    "Video(video4_output, width=600, height=400) # Wyświetlenie video"
   ]
  },
  {
   "cell_type": "markdown",
   "id": "d4ea1e36-8fac-4dbe-a0b5-287cc5bae464",
   "metadata": {},
   "source": [
    "### Negatyw - odwrócenie wartości kolorów"
   ]
  },
  {
   "cell_type": "code",
   "execution_count": 11,
   "id": "b5019ddc-0e23-4222-bc33-b987f2183fd8",
   "metadata": {},
   "outputs": [
    {
     "data": {
      "text/html": [
       "<video src=\"video5.mp4\" controls  width=\"600\"  height=\"400\">\n",
       "      Your browser does not support the <code>video</code> element.\n",
       "    </video>"
      ],
      "text/plain": [
       "<IPython.core.display.Video object>"
      ]
     },
     "execution_count": 11,
     "metadata": {},
     "output_type": "execute_result"
    }
   ],
   "source": [
    "video5_input = \"video5.mp4\" \n",
    "video5_output = \"video5_output.mp4\"\n",
    "\n",
    "Video(video5_input, width=600, height=400)"
   ]
  },
  {
   "cell_type": "code",
   "execution_count": 12,
   "id": "94a6b5b3-1492-4d4d-ad91-e1d4dcbdad58",
   "metadata": {},
   "outputs": [
    {
     "data": {
      "text/html": [
       "<video src=\"video5_output.mp4\" controls  width=\"600\"  height=\"400\">\n",
       "      Your browser does not support the <code>video</code> element.\n",
       "    </video>"
      ],
      "text/plain": [
       "<IPython.core.display.Video object>"
      ]
     },
     "execution_count": 12,
     "metadata": {},
     "output_type": "execute_result"
    }
   ],
   "source": [
    "def invert_colors(image: np.ndarray) -> np.ndarray: # Funkcja, która odwraca wartość każdego kanału koloru(jeśli coś jest białe, to będzie czarne)\n",
    "    return 255 - image\n",
    "\n",
    "clip = VideoFileClip(video5_input) # Tworzymy obieky video\n",
    "final_clip = clip.fl_image(invert_green_blue) # Tworzymy video z negatywem(zamiana koloru)\n",
    "final_clip.write_videofile(video5_output, verbose=False, logger=None) # Zapis video\n",
    "\n",
    "Video(video5_output, width=600, height=400) # Wyświetlenie video"
   ]
  },
  {
   "cell_type": "markdown",
   "id": "5bd020e2-7098-4c00-8c60-a035b0275931",
   "metadata": {},
   "source": [
    "### Dodawanie muzyki do filmu"
   ]
  },
  {
   "cell_type": "code",
   "execution_count": 13,
   "id": "7b72ffca-7836-4d6a-a6e8-de7afee7be95",
   "metadata": {},
   "outputs": [
    {
     "data": {
      "text/html": [
       "<video src=\"video6.mp4\" controls  width=\"600\"  height=\"400\">\n",
       "      Your browser does not support the <code>video</code> element.\n",
       "    </video>"
      ],
      "text/plain": [
       "<IPython.core.display.Video object>"
      ]
     },
     "execution_count": 13,
     "metadata": {},
     "output_type": "execute_result"
    }
   ],
   "source": [
    "video6_input = \"video6.mp4\" \n",
    "video6_output = \"video6_output.mp4\"\n",
    "\n",
    "Video(video6_input, width=600, height=400)"
   ]
  },
  {
   "cell_type": "code",
   "execution_count": 14,
   "id": "ba04ebd5-da38-4f24-83b7-56f73e00dd96",
   "metadata": {},
   "outputs": [
    {
     "data": {
      "text/html": [
       "<video src=\"video6_output.mp4\" controls  width=\"600\"  height=\"400\">\n",
       "      Your browser does not support the <code>video</code> element.\n",
       "    </video>"
      ],
      "text/plain": [
       "<IPython.core.display.Video object>"
      ]
     },
     "execution_count": 14,
     "metadata": {},
     "output_type": "execute_result"
    }
   ],
   "source": [
    "# Importowanie klipu wideo\n",
    "clip = VideoFileClip(video6_input)\n",
    "\n",
    "# Importowanie pliku audio\n",
    "audio = AudioFileClip(\"audio4.mp3\")\n",
    "\n",
    "# Dopasowanie długości audio do długości wideo (opcjonalne, jeśli audio jest dłuższe niż wideo)\n",
    "audio = audio.subclip(0, clip.duration)\n",
    "\n",
    "# Ustawienie zaimportowanego audio jako ścieżki dźwiękowej klipu wideo\n",
    "clip = clip.set_audio(audio)\n",
    "\n",
    "# Zapisanie nowego pliku wideo z dołączonym audio\n",
    "clip.write_videofile(\n",
    "    video6_output,       # Ścieżka do pliku wyjściowego wideo\n",
    "    audio_codec='aac',   # Specyfikacja kodeka audio, wymagana dla plików audio MP4\n",
    "    audio=True,          # Ustawienie eksportu audio\n",
    "    verbose=False,       # Wyłączenie szczegółowych informacji w konsoli\n",
    "    logger=None          # Wyłączenie loggera dla zapisu\n",
    ")\n",
    "\n",
    "# Wyświetlenie wygenerowanego wideo w określonym rozmiarze\n",
    "Video(video6_output, width=600, height=400)\n"
   ]
  },
  {
   "cell_type": "markdown",
   "id": "30b41571-a475-4ca3-acbf-e012f4e6ef7a",
   "metadata": {},
   "source": [
    "### Zwiększenie, przyśpieszenie oraz zmiana tonu dźwięku w filmie"
   ]
  },
  {
   "cell_type": "code",
   "execution_count": 15,
   "id": "26815e2f-0901-4881-b403-a8dc6af3b061",
   "metadata": {},
   "outputs": [
    {
     "ename": "AttributeError",
     "evalue": "'NoneType' object has no attribute 'volumex'",
     "output_type": "error",
     "traceback": [
      "\u001b[1;31m---------------------------------------------------------------------------\u001b[0m",
      "\u001b[1;31mAttributeError\u001b[0m                            Traceback (most recent call last)",
      "Cell \u001b[1;32mIn[15], line 7\u001b[0m\n\u001b[0;32m      3\u001b[0m clip \u001b[38;5;241m=\u001b[39m VideoFileClip(video4_output) \n\u001b[0;32m      5\u001b[0m audio \u001b[38;5;241m=\u001b[39m clip\u001b[38;5;241m.\u001b[39maudio\n\u001b[1;32m----> 7\u001b[0m audio \u001b[38;5;241m=\u001b[39m \u001b[43maudio\u001b[49m\u001b[38;5;241;43m.\u001b[39;49m\u001b[43mvolumex\u001b[49m(\u001b[38;5;241m1.5\u001b[39m)\n\u001b[0;32m      9\u001b[0m audio \u001b[38;5;241m=\u001b[39m audio\u001b[38;5;241m.\u001b[39mfx(vfx\u001b[38;5;241m.\u001b[39mspeedx, \u001b[38;5;241m1.5\u001b[39m)\n\u001b[0;32m     11\u001b[0m audio \u001b[38;5;241m=\u001b[39m audio\u001b[38;5;241m.\u001b[39mset_fps(audio\u001b[38;5;241m.\u001b[39mfps \u001b[38;5;241m*\u001b[39m \u001b[38;5;241m1.5\u001b[39m)\n",
      "\u001b[1;31mAttributeError\u001b[0m: 'NoneType' object has no attribute 'volumex'"
     ]
    }
   ],
   "source": [
    "# Ścieżka do zmodyfikowanego pliku wideo\n",
    "video6_modified = \"video6_modified.mp4\"\n",
    "\n",
    "# Importowanie klipu wideo\n",
    "clip = VideoFileClip(video4_output)\n",
    "\n",
    "# Pobranie ścieżki audio z klipu wideo\n",
    "audio = clip.audio\n",
    "\n",
    "# Zwiększenie głośności audio o 50%\n",
    "audio = audio.volumex(1.5)\n",
    "\n",
    "# Przyspieszenie ścieżki audio o 50%\n",
    "audio = audio.fx(vfx.speedx, 1.5)\n",
    "\n",
    "# Zwiększenie częstotliwości próbkowania audio o 50%\n",
    "audio = audio.set_fps(audio.fps * 1.5)\n",
    "\n",
    "# Dopasowanie długości klipu wideo do zmodyfikowanej ścieżki audio\n",
    "audio_duration = audio.duration\n",
    "clip = clip.subclip(0, audio_duration)\n",
    "\n",
    "# Połączenie zmodyfikowanej ścieżki audio z klipem wideo\n",
    "final_clip = clip.set_audio(audio)\n",
    "\n",
    "# Zapisanie zmodyfikowanego pliku wideo z nową ścieżką audio\n",
    "final_clip.write_videofile(\n",
    "    video6_modified,     # Ścieżka do zapisu zmodyfikowanego wideo\n",
    "    audio_codec='aac',   # Specyfikacja kodeka audio\n",
    "    audio=True,          # Włączenie eksportu audio\n",
    "    verbose=False,       # Wyłączenie szczegółowych informacji w konsoli\n",
    "    logger=None          # Wyłączenie loggera dla zapisu\n",
    ")\n",
    "\n",
    "# Wyświetlenie zmodyfikowanego wideo w określonym rozmiarze\n",
    "Video(video6_modified, width=600, height=400)\n"
   ]
  },
  {
   "cell_type": "markdown",
   "id": "1768ed40-b79d-4f7c-9f62-d666b54c43c0",
   "metadata": {},
   "source": [
    "### Maskowanie"
   ]
  },
  {
   "cell_type": "code",
   "execution_count": 20,
   "id": "b8e720c6-f9f0-462a-b956-59263305333e",
   "metadata": {},
   "outputs": [
    {
     "data": {
      "text/html": [
       "<video src=\"video7.mp4\" controls  width=\"600\"  height=\"400\">\n",
       "      Your browser does not support the <code>video</code> element.\n",
       "    </video>"
      ],
      "text/plain": [
       "<IPython.core.display.Video object>"
      ]
     },
     "execution_count": 20,
     "metadata": {},
     "output_type": "execute_result"
    }
   ],
   "source": [
    "video7_input = \"video7.mp4\" \n",
    "video7_output = \"video7_output.mp4\"\n",
    "\n",
    "Video(video7_input, width=600, height=400)"
   ]
  },
  {
   "cell_type": "code",
   "execution_count": 22,
   "id": "8f82da34-73eb-4d32-8998-85d19c679d8e",
   "metadata": {},
   "outputs": [
    {
     "data": {
      "text/html": [
       "<video controls  width=\"600\"  height=\"400\">\n",
       " <source src=\"data:None;base64,video7_output.mp4\" type=\"None\">\n",
       " Your browser does not support the video tag.\n",
       " </video>"
      ],
      "text/plain": [
       "<IPython.core.display.Video object>"
      ]
     },
     "execution_count": 22,
     "metadata": {},
     "output_type": "execute_result"
    }
   ],
   "source": [
    "# Importowanie głównego klipu wideo\n",
    "clip = VideoFileClip(video7_input)\n",
    "\n",
    "# Importowanie klipu wideo tła\n",
    "background = VideoFileClip(\"background_video7.mp4\")\n",
    "\n",
    "# Zapętlenie klipu tła 3 razy (jeśli tło jest krótsze niż główny klip wideo)\n",
    "background = background.fx(vfx.loop, n=3)\n",
    "\n",
    "# Dopasowanie długości tła do długości głównego klipu wideo\n",
    "background = background.set_duration(clip.duration)\n",
    "\n",
    "# Utworzenie maski z głównego klipu wideo (przezroczystość)\n",
    "mask = clip.to_mask()\n",
    "\n",
    "# Ustawienie maski na głównym klipie, aby użyć jej jako nakładki\n",
    "clip_with_mask = clip.set_mask(mask)\n",
    "\n",
    "# Połączenie klipu tła i głównego klipu z maską w jeden klip\n",
    "final_clip = CompositeVideoClip([background, clip_with_mask])\n",
    "\n",
    "# Zapisanie wynikowego klipu wideo z ustawionym kodekiem wideo i audio\n",
    "final_clip.write_videofile(\n",
    "    video5_output,    # Ścieżka do zapisu wynikowego pliku\n",
    "    codec=\"libx264\",  # Ustawienie kodeka wideo\n",
    "    audio_codec=\"aac\",# Ustawienie kodeka audio\n",
    "    verbose=False,    # Wyłączenie szczegółowych informacji w konsoli\n",
    "    logger=None       # Wyłączenie loggera dla zapisu\n",
    ")\n",
    "\n",
    "# Wyświetlenie wynikowego wideo w osadzonym playerze o zadanych wymiarach\n",
    "Video(video7_output, embed=True, width=600, height=400)\n"
   ]
  },
  {
   "cell_type": "markdown",
   "id": "89bc3c0d-292a-46ea-9f09-fb5c9c3ad377",
   "metadata": {},
   "source": [
    "### Łączenie filmów z efektami przejścia"
   ]
  },
  {
   "cell_type": "code",
   "execution_count": null,
   "id": "6bddf228-4ded-4c23-8110-031885a83320",
   "metadata": {},
   "outputs": [],
   "source": [
    "video8_1_input = \"video8_1.mp4\" \n",
    "video8_2_input = \"video8_2.mp4\"\n",
    "video8_output = \"video8_output.mp4\""
   ]
  },
  {
   "cell_type": "code",
   "execution_count": null,
   "id": "9e042fbe-b56c-4de8-9c85-f743cc3c3d95",
   "metadata": {},
   "outputs": [],
   "source": [
    "# Importowanie pierwszego klipu wideo i przycięcie go do pierwszych 10 sekund\n",
    "clip1 = VideoFileClip(video8_1_input).subclip(0, 10)\n",
    "\n",
    "# Importowanie drugiego klipu wideo i przycięcie go do pierwszych 10 sekund\n",
    "clip2 = VideoFileClip(video8_2_input).subclip(0, 10)\n",
    "\n",
    "# Dodanie efektu płynnego wejścia (fade-in) i wyjścia (fade-out) do pierwszego klipu\n",
    "clip1 = clip1.fadein(2).fadeout(2)\n",
    "\n",
    "# Dodanie efektu płynnego wejścia (fade-in) i wyjścia (fade-out) do drugiego klipu\n",
    "clip2 = clip2.fadein(2).fadeout(2)\n",
    "\n",
    "# Połączenie obu klipów w jeden, z ustawieniem metody \"compose\" i minimalnym odstępem między klipami\n",
    "final_clip = concatenate_videoclips([clip1, clip2], method=\"compose\", padding=-1)\n",
    "\n",
    "# Zapisanie wynikowego wideo z ustawieniem kodeków wideo i audio oraz liczbą klatek na sekundę (fps)\n",
    "final_clip.write_videofile(\n",
    "    video8_output,      # Ścieżka do zapisu wynikowego pliku wideo\n",
    "    codec=\"libx264\",    # Ustawienie kodeka wideo\n",
    "    audio_codec=\"aac\",  # Ustawienie kodeka audio\n",
    "    fps=24,             # Liczba klatek na sekundę\n",
    "    verbose=False,      # Wyłączenie szczegółowych informacji w konsoli\n",
    "    logger=None         # Wyłączenie loggera dla zapisu\n",
    ")\n",
    "\n",
    "# Wyświetlenie wynikowego wideo w playerze o zadanych wymiarach\n",
    "Video(video8_output, width=600, height=400)\n"
   ]
  },
  {
   "cell_type": "markdown",
   "id": "8ebaa604-5fa3-4c81-bebb-cdba00589ce8",
   "metadata": {},
   "source": [
    "## Inne efekty"
   ]
  },
  {
   "cell_type": "markdown",
   "id": "5bdecc06-cbd0-42e2-aec5-a25d678a3798",
   "metadata": {},
   "source": [
    "### Efekt \"RGB Split\""
   ]
  },
  {
   "cell_type": "code",
   "execution_count": null,
   "id": "d52c5c29-3b61-449d-8a75-52ab7cb3d7c2",
   "metadata": {},
   "outputs": [],
   "source": [
    "video9_input = \"video9.mp4\" \n",
    "Video(video9_input, width=600, height=400)"
   ]
  },
  {
   "cell_type": "code",
   "execution_count": null,
   "id": "330bbfb0-e3f0-45d0-9c04-65c413aa3828",
   "metadata": {},
   "outputs": [],
   "source": [
    "# Ścieżka do pliku wyjściowego z efektem przesunięcia RGB\n",
    "video9_1_output = \"video9_1_output.mp4\"\n",
    "\n",
    "# Definicja funkcji modyfikującej kanały RGB w klipie wideo\n",
    "def rgb_split(get_frame, t):\n",
    "    # Pobranie klatki wideo w czasie t\n",
    "    frame = get_frame(t)\n",
    "    \n",
    "    # Ekstrakcja kanałów kolorów: czerwonego (R), zielonego (G), i niebieskiego (B)\n",
    "    red_channel = frame[:, :, 0]\n",
    "    green_channel = frame[:, :, 1]\n",
    "    blue_channel = frame[:, :, 2]\n",
    "\n",
    "    # Przesunięcie kanału czerwonego (R) w pionie, zależne od funkcji sinus w czasie t\n",
    "    red_channel = np.roll(red_channel, int(np.sin(t) * 40), axis=0)\n",
    "    \n",
    "    # Przesunięcie kanału zielonego (G) w poziomie, zależne od funkcji cosinus w czasie t\n",
    "    green_channel = np.roll(green_channel, int(np.cos(t) * 15), axis=1)\n",
    "    \n",
    "    # Przesunięcie kanału niebieskiego (B) w pionie, zależne od funkcji sinus w czasie t\n",
    "    blue_channel = np.roll(blue_channel, int(np.sin(t) * 20), axis=0)\n",
    "\n",
    "    # Połączenie zmodyfikowanych kanałów w jeden obraz\n",
    "    return np.stack([red_channel, green_channel, blue_channel], axis=2)\n",
    "\n",
    "# Importowanie klipu wideo, który zostanie poddany efektowi\n",
    "clip = VideoFileClip(video9_input)\n",
    "\n",
    "# Zastosowanie funkcji efektu przesunięcia RGB do klipu\n",
    "rgb_split_clip = clip.fl(rgb_split)\n",
    "\n",
    "# Zapisanie klipu z nałożonym efektem przesunięcia RGB\n",
    "rgb_split_clip.write_videofile(\n",
    "    video9_1_output, # Ścieżka do pliku wyjściowego\n",
    "    verbose=False,   # Wyłączenie szczegółowych informacji w konsoli\n",
    "    logger=None      # Wyłączenie loggera dla zapisu\n",
    ")\n",
    "\n",
    "# Wyświetlenie zmodyfikowanego wideo w osadzonym playerze o zadanych wymiarach\n",
    "Video(video9_1_output, width=600, height=400)\n"
   ]
  },
  {
   "cell_type": "markdown",
   "id": "82eea41d-45c2-4e87-8952-34f3111f2122",
   "metadata": {},
   "source": [
    "### Efekt Jitter (drgań)"
   ]
  },
  {
   "cell_type": "code",
   "execution_count": null,
   "id": "1cf22608-e3da-4b6f-869b-7a8f72c0a201",
   "metadata": {},
   "outputs": [],
   "source": [
    "# Ścieżka do pliku wyjściowego z efektem jitter (drgania obrazu)\n",
    "video9_2_output = 'video9_2_output.mp4'\n",
    "\n",
    "# Definicja funkcji efektu jitter (drgania obrazu)\n",
    "def jitter_effect(get_frame, t):\n",
    "    # Pobranie klatki wideo w czasie t\n",
    "    frame = get_frame(t)\n",
    "    \n",
    "    # Generowanie losowego przesunięcia w poziomie (-5 do 5 pikseli)\n",
    "    shift_x = int(random.uniform(-5, 5))\n",
    "    \n",
    "    # Generowanie losowego przesunięcia w pionie (-5 do 5 pikseli)\n",
    "    shift_y = int(random.uniform(-5, 5))\n",
    "    \n",
    "    # Przesuwanie obrazu w poziomie o wartość shift_x\n",
    "    frame = np.roll(frame, shift_x, axis=1)\n",
    "    \n",
    "    # Przesuwanie obrazu w pionie o wartość shift_y\n",
    "    frame = np.roll(frame, shift_y, axis=0)\n",
    "    \n",
    "    # Zwrócenie zmodyfikowanej klatki\n",
    "    return frame\n",
    "\n",
    "# Importowanie klipu wideo, który zostanie poddany efektowi jitter\n",
    "clip = VideoFileClip(video9_input)\n",
    "\n",
    "# Zastosowanie funkcji efektu jitter do klipu\n",
    "jitter_clip = clip.fl(jitter_effect)\n",
    "\n",
    "# Zapisanie klipu z nałożonym efektem jitter\n",
    "jitter_clip.write_videofile(\n",
    "    video9_2_output, # Ścieżka do pliku wyjściowego\n",
    "    verbose=False,   # Wyłączenie szczegółowych informacji w konsoli\n",
    "    logger=None      # Wyłączenie loggera dla zapisu\n",
    ")\n",
    "\n",
    "# Wyświetlenie zmodyfikowanego wideo w osadzonym playerze o zadanych wymiarach\n",
    "Video(video9_2_output, width=600, height=400)\n"
   ]
  },
  {
   "cell_type": "markdown",
   "id": "665ba08e-a29a-4b80-93ca-98ff07bf02bc",
   "metadata": {},
   "source": [
    "### Efekt Strobe (stroboskopowy)"
   ]
  },
  {
   "cell_type": "code",
   "execution_count": null,
   "id": "14cfe6ef-7150-4dd4-93de-b05bcc70d455",
   "metadata": {},
   "outputs": [],
   "source": [
    "# Ścieżka do pliku wyjściowego z efektem stroboskopowym\n",
    "video9_3_output = 'video9_3_output.mp4'\n",
    "\n",
    "# Definicja funkcji efektu stroboskopowego\n",
    "def strobe_light(get_frame, t):\n",
    "    # Pobranie klatki wideo w czasie t\n",
    "    frame = get_frame(t)\n",
    "    \n",
    "    # Losowa szansa na zmianę obrazu na czarny\n",
    "    if random.random() > 0.95:  # W 5% przypadków obraz zostaje wygaszony\n",
    "        frame = np.zeros_like(frame)  # Całkowite wygaszenie klatki\n",
    "    return frame  # Zwrócenie oryginalnej lub zmienionej klatki\n",
    "\n",
    "# Importowanie klipu wideo, który zostanie poddany efektowi stroboskopowemu\n",
    "clip = VideoFileClip(\"video9.mp4\")\n",
    "\n",
    "# Zastosowanie funkcji efektu stroboskopowego do klipu\n",
    "strobe_light = clip.fl(strobe_light)\n",
    "\n",
    "# Zapisanie klipu z nałożonym efektem stroboskopowym\n",
    "strobe_light.write_videofile(\n",
    "    video9_3_output, # Ścieżka do pliku wyjściowego\n",
    "    verbose=False,   # Wyłączenie szczegółowych informacji w konsoli\n",
    "    logger=None      # Wyłączenie loggera dla zapisu\n",
    ")\n",
    "\n",
    "# Wyświetlenie zmodyfikowanego wideo w osadzonym playerze o zadanych wymiarach\n",
    "Video(video9_3_output, width=600, height=400)\n"
   ]
  },
  {
   "cell_type": "markdown",
   "id": "34f9aa94-8e5c-4bf2-846e-9c7008b459cd",
   "metadata": {},
   "source": [
    "### Efekt Glitch"
   ]
  },
  {
   "cell_type": "code",
   "execution_count": null,
   "id": "48eee6be-741b-4533-86e6-2d7905447d01",
   "metadata": {},
   "outputs": [],
   "source": [
    "# Ścieżka do pliku wyjściowego z efektem \"glitch\" i pikselizacji\n",
    "video9_4_output = 'video9_4_output.mp4'\n",
    "\n",
    "# Definicja funkcji efektu glitch i pikselizacji\n",
    "def glitch_pixelated(get_frame, t):\n",
    "    # Pobranie klatki wideo w czasie t\n",
    "    frame = get_frame(t).copy()\n",
    "    \n",
    "    # Uzyskanie wymiarów klatki\n",
    "    height, width, _ = frame.shape\n",
    "    \n",
    "    # Losowy rozmiar bloków pikseli (od 10 do 30)\n",
    "    block_size = random.randint(10, 30)\n",
    "    \n",
    "    # Iterowanie przez obraz w blokach o określonym rozmiarze\n",
    "    for i in range(0, height, block_size):\n",
    "        for j in range(0, width, block_size):\n",
    "            # Wyciąganie fragmentu obrazu (bloku pikseli)\n",
    "            block = frame[i:i+block_size, j:j+block_size]\n",
    "            \n",
    "            # Obliczanie średniego koloru w obrębie bloku\n",
    "            avg_color = np.mean(block, axis=(0, 1))\n",
    "            \n",
    "            # Zastąpienie całego bloku jego średnim kolorem\n",
    "            frame[i:i+block_size, j:j+block_size] = avg_color\n",
    "    \n",
    "    # Zwrócenie zmodyfikowanej klatki\n",
    "    return frame\n",
    "\n",
    "# Importowanie klipu wideo, który zostanie poddany efektowi glitch\n",
    "clip = VideoFileClip(\"video9.mp4\")\n",
    "\n",
    "# Zastosowanie funkcji efektu glitch (pikselizacji) do klipu\n",
    "disintegration_clip = clip.fl(glitch_pixelated)\n",
    "\n",
    "# Zapisanie klipu z nałożonym efektem glitch i pikselizacji\n",
    "disintegration_clip.write_videofile(\n",
    "    video9_4_output, # Ścieżka do pliku wyjściowego\n",
    "    verbose=False,   # Wyłączenie szczegółowych informacji w konsoli\n",
    "    logger=None      # Wyłączenie loggera dla zapisu\n",
    ")\n",
    "\n",
    "# Wyświetlenie zmodyfikowanego wideo w osadzonym playerze o zadanych wymiarach\n",
    "Video(video9_4_output, width=600, height=400)\n"
   ]
  }
 ],
 "metadata": {
  "kernelspec": {
   "display_name": "Python 3 (ipykernel)",
   "language": "python",
   "name": "python3"
  },
  "language_info": {
   "codemirror_mode": {
    "name": "ipython",
    "version": 3
   },
   "file_extension": ".py",
   "mimetype": "text/x-python",
   "name": "python",
   "nbconvert_exporter": "python",
   "pygments_lexer": "ipython3",
   "version": "3.12.3"
  }
 },
 "nbformat": 4,
 "nbformat_minor": 5
}
